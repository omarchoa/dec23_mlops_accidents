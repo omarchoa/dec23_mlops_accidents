{
 "cells": [
  {
   "cell_type": "markdown",
   "metadata": {},
   "source": [
    "### do imports\n"
   ]
  },
  {
   "cell_type": "code",
   "execution_count": 1,
   "metadata": {},
   "outputs": [],
   "source": [
    "from sqlalchemy.engine import create_engine\n",
    "from sqlalchemy import text\n",
    "from pydantic import BaseModel"
   ]
  },
  {
   "cell_type": "markdown",
   "metadata": {},
   "source": [
    "### setup connection to MySQL database\n"
   ]
  },
  {
   "cell_type": "code",
   "execution_count": 2,
   "metadata": {},
   "outputs": [],
   "source": [
    "# define MySQL connection details\n",
    "\n",
    "mysql_username = \"shield_admin\"\n",
    "mysql_password = \"shield_4dmin\"\n",
    "\n",
    "mysql_endpoint = \"shield-1.c3uu4ke88lpy.eu-west-3.rds.amazonaws.com\"\n",
    "mysql_port = 3306\n",
    "\n",
    "mysql_database = \"users_db\"\n",
    "\n",
    "connection_url = \"mysql+pymysql://{username}:{password}@{endpoint}:{port}/{database}\".\\\n",
    "    format(username=mysql_username,\n",
    "           password=mysql_password,\n",
    "           endpoint=mysql_endpoint,\n",
    "           port=mysql_port,\n",
    "           database=mysql_database)"
   ]
  },
  {
   "cell_type": "code",
   "execution_count": 3,
   "metadata": {},
   "outputs": [],
   "source": [
    "# create MySQL engine\n",
    "\n",
    "mysql_engine = create_engine(connection_url)"
   ]
  },
  {
   "cell_type": "code",
   "execution_count": 4,
   "metadata": {},
   "outputs": [
    {
     "data": {
      "text/plain": [
       "[('id', 'varchar(16)', 'NO', 'PRI', None, ''),\n",
       " ('username', 'varchar(16)', 'NO', '', None, ''),\n",
       " ('password', 'varchar(16)', 'NO', '', None, ''),\n",
       " ('rights', 'tinyint(1)', 'NO', '', None, '')]"
      ]
     },
     "execution_count": 4,
     "metadata": {},
     "output_type": "execute_result"
    }
   ],
   "source": [
    "# view main_table columns\n",
    "\n",
    "with mysql_engine.connect() as connection:\n",
    "    query = \"SHOW COLUMNS FROM main_table;\"\n",
    "    results = connection.execute(text(query))\n",
    "\n",
    "results.fetchall()"
   ]
  },
  {
   "cell_type": "code",
   "execution_count": 5,
   "metadata": {},
   "outputs": [
    {
     "data": {
      "text/plain": [
       "[('admin', 'admin', '4dmin', 1),\n",
       " ('fdo', 'fdo', 'c0ps', 0),\n",
       " ('policierA', 'policierA', 'sherif', 0),\n",
       " ('policierB', 'policierB', 'colombo', 0)]"
      ]
     },
     "execution_count": 5,
     "metadata": {},
     "output_type": "execute_result"
    }
   ],
   "source": [
    "# view main_table contents\n",
    "\n",
    "with mysql_engine.connect() as connection:\n",
    "    query = \"SELECT * FROM main_table;\"\n",
    "    results = connection.execute(text(query))\n",
    "\n",
    "results.fetchall()"
   ]
  },
  {
   "cell_type": "markdown",
   "metadata": {},
   "source": [
    "### implement MySQL in `post_user()`\n",
    "\n",
    "(coroutine for EP2 `/register`)\n"
   ]
  },
  {
   "cell_type": "code",
   "execution_count": 6,
   "metadata": {},
   "outputs": [],
   "source": [
    "# define sample arguments\n",
    "\n",
    "class User(BaseModel):\n",
    "    username: str\n",
    "    password: str\n",
    "    rights: int\n",
    "\n",
    "\n",
    "new_user = User(username=\"alice\",\n",
    "                password=\"wonderland\",\n",
    "                rights=0)\n",
    "\n",
    "identification=\"admin:4dmin\""
   ]
  },
  {
   "cell_type": "code",
   "execution_count": 7,
   "metadata": {},
   "outputs": [],
   "source": [
    "# simulate credential processing\n",
    "\n",
    "user, psw = identification.split(\":\")"
   ]
  },
  {
   "cell_type": "code",
   "execution_count": 8,
   "metadata": {},
   "outputs": [],
   "source": [
    "with mysql_engine.connect() as connection:\n",
    "\n",
    "    # get authorization test parameter\n",
    "\n",
    "    query = \"SELECT rights FROM main_table WHERE username = '{}';\".format(user)\n",
    "    results = connection.execute(text(query))\n",
    "    rights = results.scalar()\n",
    "\n",
    "    # get authentication test parameter\n",
    "\n",
    "    query = \"SELECT password FROM main_table WHERE username = '{}';\".format(user)\n",
    "    results = connection.execute(text(query))\n",
    "    password = results.scalar()"
   ]
  },
  {
   "cell_type": "code",
   "execution_count": 9,
   "metadata": {},
   "outputs": [],
   "source": [
    "# simulate successful authorization\n",
    "\n",
    "if rights == 1:\n",
    "\n",
    "    # simulate successful authentication\n",
    "\n",
    "    if password == psw:\n",
    "\n",
    "        # add new_user to main_table\n",
    "\n",
    "        with mysql_engine.connect() as connection:\n",
    "            query = \"INSERT INTO main_table (id, username, password, rights)\\\n",
    "                    VALUES ('{}', '{}', '{}', {});\".format(new_user.username,\n",
    "                                                           new_user.username,\n",
    "                                                           new_user.password,\n",
    "                                                           new_user.rights)\n",
    "            connection.execute(text(query))\n",
    "            connection.commit()"
   ]
  },
  {
   "cell_type": "code",
   "execution_count": 10,
   "metadata": {},
   "outputs": [
    {
     "data": {
      "text/plain": [
       "[('admin', 'admin', '4dmin', 1),\n",
       " ('alice', 'alice', 'wonderland', 0),\n",
       " ('fdo', 'fdo', 'c0ps', 0),\n",
       " ('policierA', 'policierA', 'sherif', 0),\n",
       " ('policierB', 'policierB', 'colombo', 0)]"
      ]
     },
     "execution_count": 10,
     "metadata": {},
     "output_type": "execute_result"
    }
   ],
   "source": [
    "# view updated main_table\n",
    "\n",
    "with mysql_engine.connect() as connection:\n",
    "    query = \"SELECT * FROM main_table\"\n",
    "    results = connection.execute(text(query))\n",
    "\n",
    "results.fetchall()"
   ]
  }
 ],
 "metadata": {
  "kernelspec": {
   "display_name": ".venv",
   "language": "python",
   "name": "python3"
  },
  "language_info": {
   "codemirror_mode": {
    "name": "ipython",
    "version": 3
   },
   "file_extension": ".py",
   "mimetype": "text/x-python",
   "name": "python",
   "nbconvert_exporter": "python",
   "pygments_lexer": "ipython3",
   "version": "3.9.6"
  }
 },
 "nbformat": 4,
 "nbformat_minor": 2
}
